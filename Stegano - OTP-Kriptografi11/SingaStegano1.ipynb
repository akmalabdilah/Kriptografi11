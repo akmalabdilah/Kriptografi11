{
 "cells": [
  {
   "cell_type": "code",
   "execution_count": 5,
   "id": "49347ae9",
   "metadata": {},
   "outputs": [
    {
     "name": "stdout",
     "output_type": "stream",
     "text": [
      "Revealed data: Singa adalah salah satu dari lima spesies besar kucing dalam genus Panthera.\n"
     ]
    }
   ],
   "source": [
    "from stegano import lsb\n",
    "\n",
    "# Replace \"Singa\" with the actual data you want to hide\n",
    "data_to_hide = \"Singa adalah salah satu dari lima spesies besar kucing dalam genus Panthera.\"\n",
    "\n",
    "# Hide the data in the image\n",
    "secret = lsb.hide(\"Singa3.png\", data_to_hide)\n",
    "\n",
    "# Save the steganographic image\n",
    "secret.save(\"Singa4.png\")\n",
    "\n",
    "# Try to reveal the hidden data\n",
    "try:\n",
    "    revealed_data = lsb.reveal(\"Singa4.png\")\n",
    "    print(\"Revealed data:\", revealed_data)\n",
    "except IndexError as e:\n",
    "    print(\"Error:\", e)\n"
   ]
  },
  {
   "cell_type": "code",
   "execution_count": null,
   "id": "ce938d6f",
   "metadata": {},
   "outputs": [],
   "source": []
  }
 ],
 "metadata": {
  "kernelspec": {
   "display_name": "Python 3 (ipykernel)",
   "language": "python",
   "name": "python3"
  },
  "language_info": {
   "codemirror_mode": {
    "name": "ipython",
    "version": 3
   },
   "file_extension": ".py",
   "mimetype": "text/x-python",
   "name": "python",
   "nbconvert_exporter": "python",
   "pygments_lexer": "ipython3",
   "version": "3.11.3"
  }
 },
 "nbformat": 4,
 "nbformat_minor": 5
}
