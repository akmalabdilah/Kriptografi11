{
 "cells": [
  {
   "cell_type": "code",
   "execution_count": 7,
   "id": "217dadb8",
   "metadata": {},
   "outputs": [
    {
     "name": "stdout",
     "output_type": "stream",
     "text": [
      "Revealed data: Cenderawasih merah (Paradisaea rubra) adalah spesies burung dari marga Paradisaea yang berukuran sedang dengan panjang sekitar 33 cm. Burung ini merupakan burung pengicau dengan warna kulit kuning dan coklat, serta berparuh kuning.\n"
     ]
    }
   ],
   "source": [
    "from stegano import lsb\n",
    "\n",
    "# Replace \"Burung\" with the actual data you want to hide\n",
    "data_to_hide = \"Cenderawasih merah (Paradisaea rubra) adalah spesies burung dari marga Paradisaea yang berukuran sedang dengan panjang sekitar 33 cm. Burung ini merupakan burung pengicau dengan warna kulit kuning dan coklat, serta berparuh kuning.\"\n",
    "\n",
    "# Hide the data in the image\n",
    "secret = lsb.hide(\"Cendra.png\", data_to_hide)\n",
    "\n",
    "# Save the steganographic image\n",
    "secret.save(\"Cendra2.png\")\n",
    "\n",
    "# Try to reveal the hidden data\n",
    "try:\n",
    "    revealed_data = lsb.reveal(\"Cendra2.png\")\n",
    "    print(\"Revealed data:\", revealed_data)\n",
    "except IndexError as e:\n",
    "    print(\"Error:\", e)\n"
   ]
  },
  {
   "cell_type": "code",
   "execution_count": 8,
   "id": "83714095",
   "metadata": {},
   "outputs": [
    {
     "name": "stdout",
     "output_type": "stream",
     "text": [
      "Revealed data: Cenderawasih merah (Paradisaea rubra) adalah spesies burung dari marga Paradisaea yang berukuran sedang dengan panjang sekitar 33 cm. Burung ini merupakan burung pengicau dengan warna kulit kuning dan coklat, serta berparuh kuning.\n"
     ]
    }
   ],
   "source": [
    "try:\n",
    "    revealed_data = lsb.reveal(\"Cendra2.png\")\n",
    "    print(\"Revealed data:\", revealed_data)\n",
    "except IndexError as e:\n",
    "    print(\"Error:\", e)\n"
   ]
  },
  {
   "cell_type": "code",
   "execution_count": null,
   "id": "250b1759",
   "metadata": {},
   "outputs": [],
   "source": []
  }
 ],
 "metadata": {
  "kernelspec": {
   "display_name": "Python 3 (ipykernel)",
   "language": "python",
   "name": "python3"
  },
  "language_info": {
   "codemirror_mode": {
    "name": "ipython",
    "version": 3
   },
   "file_extension": ".py",
   "mimetype": "text/x-python",
   "name": "python",
   "nbconvert_exporter": "python",
   "pygments_lexer": "ipython3",
   "version": "3.11.3"
  }
 },
 "nbformat": 4,
 "nbformat_minor": 5
}
