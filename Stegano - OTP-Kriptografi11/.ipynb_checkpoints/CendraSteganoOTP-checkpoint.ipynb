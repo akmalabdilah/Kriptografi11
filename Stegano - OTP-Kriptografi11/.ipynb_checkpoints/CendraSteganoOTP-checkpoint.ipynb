{
 "cells": [
  {
   "cell_type": "code",
   "execution_count": 1,
   "id": "e752e888",
   "metadata": {},
   "outputs": [
    {
     "name": "stdout",
     "output_type": "stream",
     "text": [
      "Revealed data: Cenderawasih merah (Paradisaea rubra) adalah spesies burung dari marga Paradisaea yang berukuran sedang dengan panjang sekitar 33 cm. Burung ini merupakan burung pengicau dengan warna kulit kuning dan coklat, serta berparuh kuning.\n"
     ]
    }
   ],
   "source": [
    "from stegano import lsb\n",
    "\n",
    "# Fungsi untuk mengenkripsi teks menggunakan One-Time Pad (OTP)\n",
    "def otp_encrypt(plain_text, key):\n",
    "    encrypted_text = ''\n",
    "    for i in range(len(plain_text)):\n",
    "        char = plain_text[i]\n",
    "        key_char = key[i % len(key)]\n",
    "        encrypted_text += chr(ord(char) ^ ord(key_char))\n",
    "    return encrypted_text\n",
    "\n",
    "# Fungsi untuk mengonversi teks ke dalam bentuk biner\n",
    "def text_to_binary(text):\n",
    "    binary_data = ''.join(format(ord(char), '08b') for char in text)\n",
    "    return binary_data\n",
    "\n",
    "# Gantikan \"YOUR_SECRET_KEY\" dengan kunci OTP yang digunakan untuk enkripsi\n",
    "otp_key = \"KUNCI\"\n",
    "\n",
    "# Gantikan \"YOUR_DATA_TO_HIDE\" dengan data yang ingin Anda sembunyikan\n",
    "data_to_hide = \"Cenderawasih merah (Paradisaea rubra) adalah spesies burung dari marga Paradisaea yang berukuran sedang dengan panjang sekitar 33 cm. Burung ini merupakan burung pengicau dengan warna kulit kuning dan coklat, serta berparuh kuning.\"\n",
    "encrypted_data = otp_encrypt(data_to_hide, otp_key)\n",
    "\n",
    "# Konversi teks terenkripsi ke dalam bentuk biner\n",
    "binary_data_to_hide = text_to_binary(encrypted_data)\n",
    "\n",
    "# Sembunyikan data terenkripsi dalam gambar\n",
    "secret = lsb.hide(\"Cendra.png\", binary_data_to_hide)\n",
    "\n",
    "# Simpan gambar steganografi\n",
    "secret.save(\"Cendra2.png\")\n",
    "\n",
    "# Coba untuk mengungkapkan data tersembunyi\n",
    "try:\n",
    "    revealed_binary_data = lsb.reveal(\"Cendra2.png\")\n",
    "    \n",
    "    # Konversi biner kembali ke teks terenkripsi\n",
    "    decrypted_data = ''.join([chr(int(revealed_binary_data[i:i+8], 2)) for i in range(0, len(revealed_binary_data), 8)])\n",
    "\n",
    "    # Dekripsi teks menggunakan One-Time Pad\n",
    "    decrypted_text = otp_encrypt(decrypted_data, otp_key)\n",
    "\n",
    "    print(\"Revealed data:\", decrypted_text)\n",
    "except IndexError as e:\n",
    "    print(\"Error:\", e)\n"
   ]
  },
  {
   "cell_type": "code",
   "execution_count": null,
   "id": "93c05d77",
   "metadata": {},
   "outputs": [],
   "source": []
  }
 ],
 "metadata": {
  "kernelspec": {
   "display_name": "Python 3 (ipykernel)",
   "language": "python",
   "name": "python3"
  },
  "language_info": {
   "codemirror_mode": {
    "name": "ipython",
    "version": 3
   },
   "file_extension": ".py",
   "mimetype": "text/x-python",
   "name": "python",
   "nbconvert_exporter": "python",
   "pygments_lexer": "ipython3",
   "version": "3.11.3"
  }
 },
 "nbformat": 4,
 "nbformat_minor": 5
}
